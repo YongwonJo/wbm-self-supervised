{
 "cells": [
  {
   "cell_type": "code",
   "execution_count": 1,
   "metadata": {
    "ExecuteTime": {
     "end_time": "2020-03-10T23:37:06.375183Z",
     "start_time": "2020-03-10T23:37:05.867471Z"
    }
   },
   "outputs": [],
   "source": [
    "import os\n",
    "import re\n",
    "import json\n",
    "import glob\n",
    "import matplotlib as mpl\n",
    "import matplotlib.pyplot as plt\n",
    "\n",
    "import numpy as np\n",
    "import pandas as pd\n",
    "\n",
    "from IPython.display import display"
   ]
  },
  {
   "cell_type": "code",
   "execution_count": 2,
   "metadata": {},
   "outputs": [],
   "source": [
    "mpl.rcParams['font.family'] = 'DejaVu Sans'\n",
    "pd.set_option('display.max_rows', 100)\n",
    "pd.set_option('display.max_columns', 500)\n",
    "pd.set_option('precision', 3)"
   ]
  },
  {
   "cell_type": "markdown",
   "metadata": {},
   "source": [
    "# Load configurations and history"
   ]
  },
  {
   "cell_type": "code",
   "execution_count": 11,
   "metadata": {},
   "outputs": [],
   "source": [
    "DATA = 'wm811k'"
   ]
  },
  {
   "cell_type": "code",
   "execution_count": 12,
   "metadata": {},
   "outputs": [],
   "source": [
    "BACKBONE = 'resnet.18.original'"
   ]
  },
  {
   "cell_type": "code",
   "execution_count": 13,
   "metadata": {},
   "outputs": [],
   "source": [
    "PRETEXT = 'pirl'"
   ]
  },
  {
   "cell_type": "code",
   "execution_count": 23,
   "metadata": {},
   "outputs": [],
   "source": [
    "CHECKPOINT_ROOT = f'../checkpoints.hparams/{DATA}/{PRETEXT}/{BACKBONE}/'\n",
    "assert os.path.isdir(CHECKPOINT_ROOT)"
   ]
  },
  {
   "cell_type": "code",
   "execution_count": 27,
   "metadata": {},
   "outputs": [],
   "source": [
    "def get_configurations(configs, history):\n",
    "    \n",
    "    d = {\n",
    "        'learning_rate': configs['learning_rate'],\n",
    "        'weight_decay': configs['weight_decay'],\n",
    "        'train_loss': history['loss']['train'],\n",
    "        'valid_loss': history['loss']['valid'],\n",
    "        'test_loss': history['loss']['test'],\n",
    "    }\n",
    "\n",
    "    return d"
   ]
  },
  {
   "cell_type": "code",
   "execution_count": 28,
   "metadata": {
    "ExecuteTime": {
     "end_time": "2020-03-10T23:37:07.123313Z",
     "start_time": "2020-03-10T23:37:06.379146Z"
    }
   },
   "outputs": [
    {
     "name": "stdout",
     "output_type": "stream",
     "text": [
      "../checkpoints.hparams/wm811k/pirl/resnet.18.original/adamw_lr_0.05_wd_0.001/configs.json\n",
      "../checkpoints.hparams/wm811k/pirl/resnet.18.original/adamw_lr_0.005_wd_0.0001/configs.json\n",
      "../checkpoints.hparams/wm811k/pirl/resnet.18.original/adamw_lr_0.01_wd_0.01/configs.json\n",
      "../checkpoints.hparams/wm811k/pirl/resnet.18.original/adamw_lr_0.005_wd_0.01/configs.json\n",
      "../checkpoints.hparams/wm811k/pirl/resnet.18.original/adamw_lr_0.05_wd_0.01/configs.json\n",
      "../checkpoints.hparams/wm811k/pirl/resnet.18.original/adamw_lr_0.05_wd_0.0001/configs.json\n",
      "../checkpoints.hparams/wm811k/pirl/resnet.18.original/adamw_lr_0.005_wd_0.001/configs.json\n",
      "../checkpoints.hparams/wm811k/pirl/resnet.18.original/adamw_lr_0.001_wd_0.01/configs.json\n",
      "../checkpoints.hparams/wm811k/pirl/resnet.18.original/adamw_lr_0.01_wd_0.001/configs.json\n",
      "../checkpoints.hparams/wm811k/pirl/resnet.18.original/adamw_lr_0.001_wd_0.0001/configs.json\n",
      "../checkpoints.hparams/wm811k/pirl/resnet.18.original/adamw_lr_0.001_wd_0.001/configs.json\n",
      "../checkpoints.hparams/wm811k/pirl/resnet.18.original/adamw_lr_0.01_wd_0.0001/configs.json\n"
     ]
    }
   ],
   "source": [
    "data = {}\n",
    "\n",
    "for ckpt_root in os.listdir(CHECKPOINT_ROOT):\n",
    "    \n",
    "    # Find configuration files recursively\n",
    "    config_file = os.path.join(CHECKPOINT_ROOT, ckpt_root, 'configs.json')\n",
    "    print(config_file)\n",
    "        \n",
    "    try:\n",
    "        # Open configuration file\n",
    "        with open(config_file, 'r') as fp:\n",
    "            configs = json.load(fp)\n",
    "        # Open history file\n",
    "        ckpt_dir = os.path.dirname(config_file)\n",
    "        history_file = os.path.join(ckpt_dir, 'best_history.json')\n",
    "        with open(history_file, 'r') as fp:\n",
    "            history = json.load(fp)\n",
    "\n",
    "    except FileNotFoundError:\n",
    "        continue\n",
    "        \n",
    "    data[ckpt_dir] = get_configurations(configs, history)"
   ]
  },
  {
   "cell_type": "code",
   "execution_count": 29,
   "metadata": {
    "ExecuteTime": {
     "end_time": "2020-03-10T23:37:07.127426Z",
     "start_time": "2020-03-10T23:37:07.124300Z"
    }
   },
   "outputs": [
    {
     "name": "stdout",
     "output_type": "stream",
     "text": [
      "Total number of experiments: 12\n"
     ]
    }
   ],
   "source": [
    "print(f\"Total number of experiments: {len(data):,}\")"
   ]
  },
  {
   "cell_type": "code",
   "execution_count": 45,
   "metadata": {
    "ExecuteTime": {
     "end_time": "2020-03-10T23:37:07.238073Z",
     "start_time": "2020-03-10T23:37:07.210239Z"
    },
    "scrolled": true
   },
   "outputs": [
    {
     "data": {
      "text/html": [
       "<div>\n",
       "<style scoped>\n",
       "    .dataframe tbody tr th:only-of-type {\n",
       "        vertical-align: middle;\n",
       "    }\n",
       "\n",
       "    .dataframe tbody tr th {\n",
       "        vertical-align: top;\n",
       "    }\n",
       "\n",
       "    .dataframe thead th {\n",
       "        text-align: right;\n",
       "    }\n",
       "</style>\n",
       "<table border=\"1\" class=\"dataframe\">\n",
       "  <thead>\n",
       "    <tr style=\"text-align: right;\">\n",
       "      <th></th>\n",
       "      <th></th>\n",
       "      <th>test_loss</th>\n",
       "      <th>train_loss</th>\n",
       "      <th>valid_loss</th>\n",
       "    </tr>\n",
       "    <tr>\n",
       "      <th>learning_rate</th>\n",
       "      <th>weight_decay</th>\n",
       "      <th></th>\n",
       "      <th></th>\n",
       "      <th></th>\n",
       "    </tr>\n",
       "  </thead>\n",
       "  <tbody>\n",
       "    <tr>\n",
       "      <th rowspan=\"3\" valign=\"top\">0.001</th>\n",
       "      <th>1.000e-04</th>\n",
       "      <td>0.800</td>\n",
       "      <td>1.746</td>\n",
       "      <td>0.791</td>\n",
       "    </tr>\n",
       "    <tr>\n",
       "      <th>1.000e-03</th>\n",
       "      <td>0.636</td>\n",
       "      <td>1.724</td>\n",
       "      <td>0.631</td>\n",
       "    </tr>\n",
       "    <tr>\n",
       "      <th>1.000e-02</th>\n",
       "      <td>0.737</td>\n",
       "      <td>1.768</td>\n",
       "      <td>0.769</td>\n",
       "    </tr>\n",
       "    <tr>\n",
       "      <th rowspan=\"3\" valign=\"top\">0.005</th>\n",
       "      <th>1.000e-04</th>\n",
       "      <td>1.531</td>\n",
       "      <td>2.239</td>\n",
       "      <td>1.525</td>\n",
       "    </tr>\n",
       "    <tr>\n",
       "      <th>1.000e-03</th>\n",
       "      <td>1.627</td>\n",
       "      <td>2.341</td>\n",
       "      <td>1.768</td>\n",
       "    </tr>\n",
       "    <tr>\n",
       "      <th>1.000e-02</th>\n",
       "      <td>1.533</td>\n",
       "      <td>2.221</td>\n",
       "      <td>1.524</td>\n",
       "    </tr>\n",
       "    <tr>\n",
       "      <th rowspan=\"3\" valign=\"top\">0.010</th>\n",
       "      <th>1.000e-04</th>\n",
       "      <td>1.510</td>\n",
       "      <td>2.145</td>\n",
       "      <td>1.543</td>\n",
       "    </tr>\n",
       "    <tr>\n",
       "      <th>1.000e-03</th>\n",
       "      <td>1.254</td>\n",
       "      <td>2.023</td>\n",
       "      <td>1.244</td>\n",
       "    </tr>\n",
       "    <tr>\n",
       "      <th>1.000e-02</th>\n",
       "      <td>1.560</td>\n",
       "      <td>2.188</td>\n",
       "      <td>1.558</td>\n",
       "    </tr>\n",
       "    <tr>\n",
       "      <th rowspan=\"3\" valign=\"top\">0.050</th>\n",
       "      <th>1.000e-04</th>\n",
       "      <td>1.417</td>\n",
       "      <td>2.069</td>\n",
       "      <td>1.433</td>\n",
       "    </tr>\n",
       "    <tr>\n",
       "      <th>1.000e-03</th>\n",
       "      <td>1.268</td>\n",
       "      <td>2.108</td>\n",
       "      <td>1.297</td>\n",
       "    </tr>\n",
       "    <tr>\n",
       "      <th>1.000e-02</th>\n",
       "      <td>1.141</td>\n",
       "      <td>2.334</td>\n",
       "      <td>1.189</td>\n",
       "    </tr>\n",
       "  </tbody>\n",
       "</table>\n",
       "</div>"
      ],
      "text/plain": [
       "                            test_loss  train_loss  valid_loss\n",
       "learning_rate weight_decay                                   \n",
       "0.001         1.000e-04         0.800       1.746       0.791\n",
       "              1.000e-03         0.636       1.724       0.631\n",
       "              1.000e-02         0.737       1.768       0.769\n",
       "0.005         1.000e-04         1.531       2.239       1.525\n",
       "              1.000e-03         1.627       2.341       1.768\n",
       "              1.000e-02         1.533       2.221       1.524\n",
       "0.010         1.000e-04         1.510       2.145       1.543\n",
       "              1.000e-03         1.254       2.023       1.244\n",
       "              1.000e-02         1.560       2.188       1.558\n",
       "0.050         1.000e-04         1.417       2.069       1.433\n",
       "              1.000e-03         1.268       2.108       1.297\n",
       "              1.000e-02         1.141       2.334       1.189"
      ]
     },
     "metadata": {},
     "output_type": "display_data"
    }
   ],
   "source": [
    "df = pd.DataFrame.from_dict(data, orient='index')\n",
    "df = df.reset_index(drop=True, inplace=False)\n",
    "df = df.pivot_table(values=['train_loss', 'valid_loss', 'test_loss'], index=['learning_rate', 'weight_decay'])\n",
    "display(df)"
   ]
  },
  {
   "cell_type": "code",
   "execution_count": 83,
   "metadata": {},
   "outputs": [
    {
     "data": {
      "image/png": "[encoded data removed]",
      "text/plain": [
       "<Figure size 720x432 with 1 Axes>"
      ]
     },
     "metadata": {
      "needs_background": "light"
     },
     "output_type": "display_data"
    }
   ],
   "source": [
    "fig, ax = plt.subplots(1, 1, figsize=(10, 6))\n",
    "df.unstack().plot.bar(y='train_loss', rot=45, ax=ax)\n",
    "plt.show(fig)"
   ]
  },
  {
   "cell_type": "code",
   "execution_count": null,
   "metadata": {},
   "outputs": [],
   "source": []
  }
 ],
 "metadata": {
  "kernelspec": {
   "display_name": "Python 3",
   "language": "python",
   "name": "python3"
  },
  "language_info": {
   "codemirror_mode": {
    "name": "ipython",
    "version": 3
   },
   "file_extension": ".py",
   "mimetype": "text/x-python",
   "name": "python",
   "nbconvert_exporter": "python",
   "pygments_lexer": "ipython3",
   "version": "3.6.9"
  },
  "varInspector": {
   "cols": {
    "lenName": 16,
    "lenType": 16,
    "lenVar": 40
   },
   "kernels_config": {
    "python": {
     "delete_cmd_postfix": "",
     "delete_cmd_prefix": "del ",
     "library": "var_list.py",
     "varRefreshCmd": "print(var_dic_list())"
    },
    "r": {
     "delete_cmd_postfix": ") ",
     "delete_cmd_prefix": "rm(",
     "library": "var_list.r",
     "varRefreshCmd": "cat(var_dic_list()) "
    }
   },
   "types_to_exclude": [
    "module",
    "function",
    "builtin_function_or_method",
    "instance",
    "_Feature"
   ],
   "window_display": false
  }
 },
 "nbformat": 4,
 "nbformat_minor": 4
}
