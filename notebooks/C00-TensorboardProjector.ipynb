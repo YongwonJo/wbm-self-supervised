{
 "cells": [
  {
   "cell_type": "code",
   "execution_count": 1,
   "metadata": {
    "ExecuteTime": {
     "end_time": "2020-02-11T15:32:55.056390Z",
     "start_time": "2020-02-11T15:32:54.620326Z"
    }
   },
   "outputs": [],
   "source": [
    "import os\n",
    "import sys\n",
    "import torch\n",
    "from torch.utils.tensorboard import SummaryWriter"
   ]
  },
  {
   "cell_type": "code",
   "execution_count": 2,
   "metadata": {
    "ExecuteTime": {
     "end_time": "2020-02-11T15:32:55.062017Z",
     "start_time": "2020-02-11T15:32:55.057632Z"
    }
   },
   "outputs": [],
   "source": [
    "sys.path.append('../')\n",
    "from models.vgg import BACKBONE_LAYER_CONFIGS\n",
    "from models.vgg import VGGEncoder"
   ]
  },
  {
   "cell_type": "code",
   "execution_count": 3,
   "metadata": {
    "ExecuteTime": {
     "end_time": "2020-02-11T15:32:55.081143Z",
     "start_time": "2020-02-11T15:32:55.063184Z"
    }
   },
   "outputs": [],
   "source": [
    "encoder = VGGEncoder(\n",
    "    layer_config=BACKBONE_LAYER_CONFIGS['W5'],\n",
    "    in_channels=2,\n",
    "    output_size=(5, 5)\n",
    ")"
   ]
  },
  {
   "cell_type": "code",
   "execution_count": 4,
   "metadata": {
    "ExecuteTime": {
     "end_time": "2020-02-11T15:32:56.933732Z",
     "start_time": "2020-02-11T15:32:55.082362Z"
    }
   },
   "outputs": [
    {
     "data": {
      "text/plain": [
       "<All keys matched successfully>"
      ]
     },
     "execution_count": 4,
     "metadata": {},
     "output_type": "execute_result"
    }
   ],
   "source": [
    "encoder.load_pretrained(\"../temp/best_model.denoising.00.pt\", key='encoder')"
   ]
  },
  {
   "cell_type": "code",
   "execution_count": 5,
   "metadata": {
    "ExecuteTime": {
     "end_time": "2020-02-11T15:32:56.937926Z",
     "start_time": "2020-02-11T15:32:56.934951Z"
    }
   },
   "outputs": [
    {
     "name": "stdout",
     "output_type": "stream",
     "text": [
      "Sequential(\n",
      "  (0): Conv2d(2, 16, kernel_size=(3, 3), stride=(1, 1), padding=(1, 1))\n",
      "  (1): ReLU(inplace=True)\n",
      "  (2): MaxPool2d(kernel_size=2, stride=2, padding=0, dilation=1, ceil_mode=False)\n",
      "  (3): Conv2d(16, 32, kernel_size=(3, 3), stride=(1, 1), padding=(1, 1))\n",
      "  (4): ReLU(inplace=True)\n",
      "  (5): MaxPool2d(kernel_size=2, stride=2, padding=0, dilation=1, ceil_mode=False)\n",
      "  (6): Conv2d(32, 64, kernel_size=(3, 3), stride=(1, 1), padding=(1, 1))\n",
      "  (7): ReLU(inplace=True)\n",
      "  (8): AdaptiveAvgPool2d(output_size=(5, 5))\n",
      ")\n"
     ]
    }
   ],
   "source": [
    "for child in encoder.children():\n",
    "    print(child)"
   ]
  },
  {
   "cell_type": "code",
   "execution_count": 6,
   "metadata": {
    "ExecuteTime": {
     "end_time": "2020-02-11T15:32:57.046424Z",
     "start_time": "2020-02-11T15:32:56.939507Z"
    }
   },
   "outputs": [],
   "source": [
    "from torchvision.transforms import Lambda"
   ]
  },
  {
   "cell_type": "code",
   "execution_count": 7,
   "metadata": {
    "ExecuteTime": {
     "end_time": "2020-02-11T15:32:57.204400Z",
     "start_time": "2020-02-11T15:32:57.047668Z"
    }
   },
   "outputs": [],
   "source": [
    "from datasets.wafer import Wafer40Dataset"
   ]
  },
  {
   "cell_type": "code",
   "execution_count": 8,
   "metadata": {
    "ExecuteTime": {
     "end_time": "2020-02-11T15:32:57.213470Z",
     "start_time": "2020-02-11T15:32:57.205460Z"
    }
   },
   "outputs": [],
   "source": [
    "test_set = Wafer40Dataset(\"../temp/wafer40.00.npz\", mode='test')"
   ]
  },
  {
   "cell_type": "code",
   "execution_count": 9,
   "metadata": {
    "ExecuteTime": {
     "end_time": "2020-02-11T15:32:57.262802Z",
     "start_time": "2020-02-11T15:32:57.214912Z"
    }
   },
   "outputs": [],
   "source": [
    "features = encoder(torch.cat([test_set.x, test_set.m], dim=1))"
   ]
  },
  {
   "cell_type": "code",
   "execution_count": 10,
   "metadata": {
    "ExecuteTime": {
     "end_time": "2020-02-11T15:32:57.265771Z",
     "start_time": "2020-02-11T15:32:57.263775Z"
    }
   },
   "outputs": [],
   "source": [
    "features = features.view(features.size(0), -1)"
   ]
  },
  {
   "cell_type": "code",
   "execution_count": 11,
   "metadata": {
    "ExecuteTime": {
     "end_time": "2020-02-11T15:32:57.286397Z",
     "start_time": "2020-02-11T15:32:57.266960Z"
    }
   },
   "outputs": [],
   "source": [
    "writer = SummaryWriter(log_dir=\"../temp/runs/denoising/\")"
   ]
  },
  {
   "cell_type": "code",
   "execution_count": 12,
   "metadata": {
    "ExecuteTime": {
     "end_time": "2020-02-11T15:32:57.816706Z",
     "start_time": "2020-02-11T15:32:57.287528Z"
    }
   },
   "outputs": [],
   "source": [
    "scaled_x = Lambda(lambda x: (x-0)/(2-0))(test_set.x)\n",
    "writer.add_embedding(features, metadata=test_set.y, label_img=scaled_x)"
   ]
  },
  {
   "cell_type": "code",
   "execution_count": null,
   "metadata": {},
   "outputs": [],
   "source": []
  }
 ],
 "metadata": {
  "kernelspec": {
   "display_name": "Python 3",
   "language": "python",
   "name": "python3"
  },
  "language_info": {
   "codemirror_mode": {
    "name": "ipython",
    "version": 3
   },
   "file_extension": ".py",
   "mimetype": "text/x-python",
   "name": "python",
   "nbconvert_exporter": "python",
   "pygments_lexer": "ipython3",
   "version": "3.7.6"
  },
  "varInspector": {
   "cols": {
    "lenName": 16,
    "lenType": 16,
    "lenVar": 40
   },
   "kernels_config": {
    "python": {
     "delete_cmd_postfix": "",
     "delete_cmd_prefix": "del ",
     "library": "var_list.py",
     "varRefreshCmd": "print(var_dic_list())"
    },
    "r": {
     "delete_cmd_postfix": ") ",
     "delete_cmd_prefix": "rm(",
     "library": "var_list.r",
     "varRefreshCmd": "cat(var_dic_list()) "
    }
   },
   "types_to_exclude": [
    "module",
    "function",
    "builtin_function_or_method",
    "instance",
    "_Feature"
   ],
   "window_display": false
  }
 },
 "nbformat": 4,
 "nbformat_minor": 2
}
