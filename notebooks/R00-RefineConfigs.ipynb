{
 "cells": [
  {
   "cell_type": "code",
   "execution_count": 13,
   "metadata": {},
   "outputs": [],
   "source": [
    "import os\n",
    "import glob\n",
    "import json\n",
    "import copy\n",
    "import collections"
   ]
  },
  {
   "cell_type": "code",
   "execution_count": 23,
   "metadata": {},
   "outputs": [],
   "source": [
    "ROOT = \"../checkpoints/wm811k/pirl/\"\n",
    "config_files = glob.glob(os.path.join(ROOT, '**/configs.json'), recursive=True)\n",
    "for config_file in config_files:\n",
    "    with open(config_file, 'r') as f:\n",
    "        config_dict = json.load(f)\n",
    "    revised = copy.deepcopy(config_dict)\n",
    "    if config_dict['augmentation'] == 'wapirl-v1':\n",
    "        revised['augmentation'] = 'rotate'\n",
    "        revised['noise'] = 0.00\n",
    "    elif config_dict['augmentation'] == 'wapirl-v2':\n",
    "        revised['augmentation'] = 'rotate'\n",
    "        revised['noise'] = 0.05\n",
    "    elif config_dict['augmentation'] == 'wapirl-v3':\n",
    "        revised['augmentation'] = 'rotate'\n",
    "        revised['noise'] = 0.10\n",
    "    with open(config_file, 'w') as f:\n",
    "        json.dump(revised, f, indent=2)"
   ]
  },
  {
   "cell_type": "code",
   "execution_count": 30,
   "metadata": {},
   "outputs": [],
   "source": [
    "ROOT = \"../checkpoints.balanced/wm811k/classification_pirl/\"\n",
    "config_files = glob.glob(os.path.join(ROOT, '**/configs.json'), recursive=True)\n"
   ]
  },
  {
   "cell_type": "code",
   "execution_count": 31,
   "metadata": {},
   "outputs": [
    {
     "data": {
      "text/plain": [
       "96"
      ]
     },
     "execution_count": 31,
     "metadata": {},
     "output_type": "execute_result"
    }
   ],
   "source": [
    "len(config_files)"
   ]
  },
  {
   "cell_type": "code",
   "execution_count": 34,
   "metadata": {},
   "outputs": [],
   "source": [
    "for i, config_file in enumerate(config_files):\n",
    "    try:\n",
    "        with open(config_file, 'r') as f:\n",
    "            config_dict = json.load(f)\n",
    "        revised = copy.deepcopy(config_dict)\n",
    "        if config_dict['augmentation'] == 'wapirl-v1':\n",
    "            revised['augmentation'] = 'rotate'\n",
    "            revised['noise'] = 0.00\n",
    "        elif config_dict['augmentation'] == 'wapirl-v2':\n",
    "            revised['augmentation'] = 'rotate'\n",
    "            revised['noise'] = 0.05\n",
    "        elif config_dict['augmentation'] == 'wapirl-v3':\n",
    "            revised['augmentation'] = 'rotate'\n",
    "            revised['noise'] = 0.10\n",
    "        else:\n",
    "            pass\n",
    "        revised['checkpoint_dir'] = revised['checkpoint_dir'].replace('.balanced', '')\n",
    "        try:\n",
    "            del revised['finetune_augmentation']\n",
    "        except:\n",
    "            pass\n",
    "        with open(config_file, 'w') as f:\n",
    "            json.dump(revised, f, indent=2)\n",
    "    except KeyError as e:\n",
    "        print(e)\n",
    "        print(i)\n",
    "        print(config_dict)\n",
    "        break"
   ]
  },
  {
   "cell_type": "code",
   "execution_count": 35,
   "metadata": {},
   "outputs": [],
   "source": [
    "ROOT = \"../checkpoints.balanced/wm811k/classification_scratch/\"\n",
    "config_files = glob.glob(os.path.join(ROOT, '**/configs.json'), recursive=True)\n"
   ]
  },
  {
   "cell_type": "code",
   "execution_count": 36,
   "metadata": {},
   "outputs": [
    {
     "data": {
      "text/plain": [
       "99"
      ]
     },
     "execution_count": 36,
     "metadata": {},
     "output_type": "execute_result"
    }
   ],
   "source": [
    "len(config_files)"
   ]
  },
  {
   "cell_type": "code",
   "execution_count": 37,
   "metadata": {},
   "outputs": [],
   "source": [
    "for i, config_file in enumerate(config_files):\n",
    "    try:\n",
    "        with open(config_file, 'r') as f:\n",
    "            config_dict = json.load(f)\n",
    "        revised = copy.deepcopy(config_dict)\n",
    "        if config_dict['finetune_augmentation'] == 'wapirl-v1':\n",
    "            revised['augmentation'] = 'rotate'\n",
    "            revised['noise'] = 0.00\n",
    "        elif config_dict['finetune_augmentation'] == 'wapirl-v2':\n",
    "            revised['augmentation'] = 'rotate'\n",
    "            revised['noise'] = 0.05\n",
    "        elif config_dict['finetune_augmentation'] == 'wapirl-v3':\n",
    "            revised['augmentation'] = 'rotate'\n",
    "            revised['noise'] = 0.10\n",
    "        else:\n",
    "            pass\n",
    "        revised['checkpoint_dir'] = revised['checkpoint_dir'].replace('.balanced', '')\n",
    "        try:\n",
    "            del revised['finetune_augmentation']\n",
    "        except:\n",
    "            pass\n",
    "        with open(config_file, 'w') as f:\n",
    "            json.dump(revised, f, indent=2)\n",
    "    except KeyError as e:\n",
    "        print(e)\n",
    "        print(i)\n",
    "        print(config_dict)\n",
    "        break"
   ]
  },
  {
   "cell_type": "code",
   "execution_count": null,
   "metadata": {},
   "outputs": [],
   "source": []
  }
 ],
 "metadata": {
  "kernelspec": {
   "display_name": "Python 3",
   "language": "python",
   "name": "python3"
  },
  "language_info": {
   "codemirror_mode": {
    "name": "ipython",
    "version": 3
   },
   "file_extension": ".py",
   "mimetype": "text/x-python",
   "name": "python",
   "nbconvert_exporter": "python",
   "pygments_lexer": "ipython3",
   "version": "3.6.9"
  }
 },
 "nbformat": 4,
 "nbformat_minor": 4
}
