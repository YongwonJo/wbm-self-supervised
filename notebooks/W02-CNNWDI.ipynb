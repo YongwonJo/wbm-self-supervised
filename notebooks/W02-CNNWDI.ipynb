{
 "cells": [
  {
   "cell_type": "code",
   "execution_count": 1,
   "metadata": {},
   "outputs": [],
   "source": [
    "import os\n",
    "import glob\n",
    "import sys\n",
    "\n",
    "import torch\n",
    "import torch.nn as nn\n",
    "import torch.optim as optim"
   ]
  },
  {
   "cell_type": "code",
   "execution_count": 2,
   "metadata": {},
   "outputs": [],
   "source": [
    "ROOT = os.path.abspath('../')\n",
    "if ROOT not in sys.path:\n",
    "    sys.path.append(ROOT)"
   ]
  },
  {
   "cell_type": "code",
   "execution_count": 3,
   "metadata": {},
   "outputs": [],
   "source": [
    "from datasets.wafer import WM811K\n",
    "from datasets.wafer import get_dataloader\n",
    "from tasks.classification import Classification\n",
    "from baselines.wm811k.transforms import CNNWDITransform\n",
    "from baselines.wm811k.models import CNNWDI\n",
    "from models.head import GAPClassifier\n",
    "from utils.metrics import MultiF1Score\n",
    "from utils.logging import get_logger"
   ]
  },
  {
   "cell_type": "code",
   "execution_count": 4,
   "metadata": {},
   "outputs": [],
   "source": [
    "SIZE = (96, 96)"
   ]
  },
  {
   "cell_type": "code",
   "execution_count": 5,
   "metadata": {},
   "outputs": [],
   "source": [
    "train_transform = CNNWDITransform(SIZE, mode='train')\n",
    "test_transform = CNNWDITransform(SIZE, mode='test')"
   ]
  },
  {
   "cell_type": "code",
   "execution_count": 6,
   "metadata": {},
   "outputs": [],
   "source": [
    "DEVICE = 'cuda:2'"
   ]
  },
  {
   "cell_type": "code",
   "execution_count": 7,
   "metadata": {},
   "outputs": [],
   "source": [
    "BATCH_SIZE =256\n",
    "NUM_WORKERS = 4\n",
    "EPOCHS = 100"
   ]
  },
  {
   "cell_type": "code",
   "execution_count": 8,
   "metadata": {},
   "outputs": [
    {
     "name": "stdout",
     "output_type": "stream",
     "text": [
      "== Label Proportion: 0.01==\n",
      " Epoch: [100/100] ( 56) | train_loss: 0.0653 | valid_loss: 0.3332 | train_f1: 0.9804 | valid_f1: 0.6272 |: 100%|\u001b[94m██████████\u001b[39m| [05:00<00:00,  3.00s/it]\n",
      " Best model (  56):  train_loss: 0.1221 | valid_loss: 0.2557 | test_loss: 0.2648 | train_f1: 0.9600 | valid_f1: 0.6657 | test_f1: 0.6536 |\n",
      " Last model ( 100):  train_loss: 0.0653 | valid_loss: 0.3332 | test_loss: 0.3450 | train_f1: 0.9804 | valid_f1: 0.6272 | test_f1: 0.6301 |\n",
      "== Label Proportion: 0.05==\n",
      " Epoch: [100/100] ( 94) | train_loss: 0.1770 | valid_loss: 0.1563 | train_f1: 0.9482 | valid_f1: 0.7807 |: 100%|\u001b[94m██████████\u001b[39m| [06:13<00:00,  3.74s/it]\n",
      " Best model (  94):  train_loss: 0.1499 | valid_loss: 0.1532 | test_loss: 0.1491 | train_f1: 0.9520 | valid_f1: 0.8026 | test_f1: 0.7996 |\n",
      " Last model ( 100):  train_loss: 0.1770 | valid_loss: 0.1563 | test_loss: 0.1528 | train_f1: 0.9482 | valid_f1: 0.7807 | test_f1: 0.7900 |\n",
      "== Label Proportion: 0.10==\n",
      " Epoch: [100/100] ( 31) | train_loss: 0.1118 | valid_loss: 0.1383 | train_f1: 0.9630 | valid_f1: 0.8112 |: 100%|\u001b[94m██████████\u001b[39m| [07:46<00:00,  4.66s/it]\n",
      " Best model (  31):  train_loss: 0.1600 | valid_loss: 0.1253 | test_loss: 0.1180 | train_f1: 0.9517 | valid_f1: 0.8309 | test_f1: 0.8292 |\n",
      " Last model ( 100):  train_loss: 0.1118 | valid_loss: 0.1383 | test_loss: 0.1316 | train_f1: 0.9630 | valid_f1: 0.8112 | test_f1: 0.8395 |\n",
      "== Label Proportion: 0.25==\n",
      " Epoch: [100/100] ( 99) | train_loss: 0.0848 | valid_loss: 0.1250 | train_f1: 0.9713 | valid_f1: 0.8354 |: 100%|\u001b[94m██████████\u001b[39m| [12:30<00:00,  7.50s/it]\n",
      " Best model (  99):  train_loss: 0.0804 | valid_loss: 0.1109 | test_loss: 0.1079 | train_f1: 0.9730 | valid_f1: 0.8556 | test_f1: 0.8633 |\n",
      " Last model ( 100):  train_loss: 0.0848 | valid_loss: 0.1250 | test_loss: 0.1107 | train_f1: 0.9713 | valid_f1: 0.8354 | test_f1: 0.8516 |\n",
      "== Label Proportion: 0.50==\n",
      " Epoch: [100/100] ( 77) | train_loss: 0.0881 | valid_loss: 0.1429 | train_f1: 0.9701 | valid_f1: 0.8532 |: 100%|\u001b[94m██████████\u001b[39m| [20:34<00:00, 12.34s/it]\n",
      " Best model (  77):  train_loss: 0.0974 | valid_loss: 0.0942 | test_loss: 0.0842 | train_f1: 0.9671 | valid_f1: 0.8811 | test_f1: 0.8827 |\n",
      " Last model ( 100):  train_loss: 0.0881 | valid_loss: 0.1429 | test_loss: 0.1375 | train_f1: 0.9701 | valid_f1: 0.8532 | test_f1: 0.8575 |\n",
      "== Label Proportion: 1.00==\n",
      " Epoch: [100/100] ( 87) | train_loss: 0.0963 | valid_loss: 0.1118 | train_f1: 0.9669 | valid_f1: 0.8589 |: 100%|\u001b[94m██████████\u001b[39m| [34:34<00:00, 20.74s/it]\n",
      " Best model (  87):  train_loss: 0.0978 | valid_loss: 0.0906 | test_loss: 0.0901 | train_f1: 0.9661 | valid_f1: 0.8914 | test_f1: 0.8912 |\n",
      " Last model ( 100):  train_loss: 0.0963 | valid_loss: 0.1118 | test_loss: 0.1057 | train_f1: 0.9669 | valid_f1: 0.8589 | test_f1: 0.8772 |\n"
     ]
    }
   ],
   "source": [
    "for p in [0.01, 0.05, 0.10, 0.25, 0.50, 1.00]:\n",
    "    \n",
    "    print(f\"== Label Proportion: {p:.2f}==\")\n",
    "    \n",
    "    train_set = WM811K(\n",
    "        root=os.path.join(ROOT, \"data/wm811k/labeled/train/\"),\n",
    "        transform=train_transform,\n",
    "        proportion=p,\n",
    "    )\n",
    "    valid_set = WM811K(\n",
    "        root=os.path.join(ROOT, \"data/wm811k/labeled/valid/\"),\n",
    "        transform=test_transform\n",
    "    )\n",
    "    test_set = WM811K(\n",
    "        root=os.path.join(ROOT, \"data/wm811k/labeled/test/\"),\n",
    "        transform=test_transform\n",
    "    )\n",
    "    \n",
    "    ckpt_dir = f'../checkpoints/wm811k/baselines/cnnwdi/LP-{p:.2f}'\n",
    "    \n",
    "    backbone = CNNWDI(in_channels=2)\n",
    "    classifier = GAPClassifier(backbone.out_channels, num_classes=9)\n",
    "    optimizer = optim.Adam([*backbone.parameters(), *classifier.parameters()], lr=0.001)\n",
    "    cnnwdi = Classification(\n",
    "        backbone=backbone,\n",
    "        classifier=classifier,\n",
    "        optimizer=optimizer,\n",
    "        scheduler=None,\n",
    "        loss_function=nn.CrossEntropyLoss(reduction='mean'),\n",
    "        metrics=dict(f1=MultiF1Score(num_classes=9, average='macro')),\n",
    "        checkpoint_dir=ckpt_dir,\n",
    "        write_summary=False,\n",
    "    )\n",
    "    cnnwdi.run(\n",
    "        train_set=train_set,\n",
    "        valid_set=valid_set,\n",
    "        test_set=test_set,\n",
    "        epochs=EPOCHS,\n",
    "        batch_size=BATCH_SIZE,\n",
    "        num_workers=NUM_WORKERS,\n",
    "        device=DEVICE,\n",
    "        logger=get_logger(stream=False, logfile=os.path.join(ckpt_dir, 'main.log')),\n",
    "        eval_metric='f1',\n",
    "        balance=True,\n",
    "    )"
   ]
  },
  {
   "cell_type": "code",
   "execution_count": null,
   "metadata": {},
   "outputs": [],
   "source": []
  }
 ],
 "metadata": {
  "kernelspec": {
   "display_name": "Python 3",
   "language": "python",
   "name": "python3"
  },
  "language_info": {
   "codemirror_mode": {
    "name": "ipython",
    "version": 3
   },
   "file_extension": ".py",
   "mimetype": "text/x-python",
   "name": "python",
   "nbconvert_exporter": "python",
   "pygments_lexer": "ipython3",
   "version": "3.6.9"
  }
 },
 "nbformat": 4,
 "nbformat_minor": 4
}
