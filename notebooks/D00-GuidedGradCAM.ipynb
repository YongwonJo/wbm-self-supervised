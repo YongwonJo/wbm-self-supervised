{
 "cells": [
  {
   "cell_type": "code",
   "execution_count": 1,
   "metadata": {},
   "outputs": [],
   "source": [
    "import os\n",
    "import sys\n",
    "sys.path.append(\"../\")\n",
    "\n",
    "import glob\n",
    "import warnings\n",
    "import collections\n",
    "warnings.filterwarnings('ignore')\n",
    "\n",
    "import torch\n",
    "import torch.nn as nn\n",
    "\n",
    "import numpy as np\n",
    "import matplotlib as mpl\n",
    "import matplotlib.pyplot as plt\n",
    "import seaborn as sns\n",
    "import plotly.express as px\n",
    "\n",
    "from IPython.display import display\n",
    "from PIL import Image\n",
    "\n",
    "from datasets.wafer import WM811K_LABELS\n",
    "from datasets.wafer import LabeledWM811kFolder, get_dataloader\n",
    "from datasets.transforms import BasicTransform, RotationTransform\n",
    "from models.config import RESNET_BACKBONE_CONFIGS\n",
    "from models.resnet.backbone import ResNetBackbone\n",
    "from models.head import GAPClassifier"
   ]
  },
  {
   "cell_type": "code",
   "execution_count": 2,
   "metadata": {},
   "outputs": [],
   "source": [
    "from captum.attr import GuidedGradCam, LayerGradCam"
   ]
  },
  {
   "cell_type": "markdown",
   "metadata": {},
   "source": [
    "# Load classification model from checkpoint"
   ]
  },
  {
   "cell_type": "code",
   "execution_count": 3,
   "metadata": {},
   "outputs": [],
   "source": [
    "cfg = dict(\n",
    "    backbone_type='resnet',\n",
    "    backbone_config='18.original',\n",
    "    in_channels=2,\n",
    "    projector_type='linear',\n",
    "    projector_size=128,\n",
    "    num_negatives=5000,\n",
    "    noise=0.05,\n",
    "    rotate=True,   \n",
    ")"
   ]
  },
  {
   "cell_type": "code",
   "execution_count": 4,
   "metadata": {},
   "outputs": [
    {
     "name": "stdout",
     "output_type": "stream",
     "text": [
      "ResNetBackbone(\n",
      "  (layers): Sequential(\n",
      "    (block0): Sequential(\n",
      "      (conv1): Conv2d(2, 64, kernel_size=(7, 7), stride=(2, 2), padding=(3, 3), bias=False)\n",
      "      (bnorm1): BatchNorm2d(64, eps=1e-05, momentum=0.1, affine=True, track_running_stats=True)\n",
      "      (relu1): ReLU(inplace=True)\n",
      "      (pool1): MaxPool2d(kernel_size=3, stride=2, padding=1, dilation=1, ceil_mode=False)\n",
      "    )\n",
      "    (block1): BasicBlock(\n",
      "      (conv1): Conv2d(64, 64, kernel_size=(3, 3), stride=(1, 1), padding=(1, 1), bias=False)\n",
      "      (bnorm1): BatchNorm2d(64, eps=1e-05, momentum=0.1, affine=True, track_running_stats=True)\n",
      "      (relu1): ReLU(inplace=True)\n",
      "      (conv2): Conv2d(64, 64, kernel_size=(3, 3), stride=(1, 1), padding=(1, 1), bias=False)\n",
      "      (bnorm2): BatchNorm2d(64, eps=1e-05, momentum=0.1, affine=True, track_running_stats=True)\n",
      "      (relu2): ReLU(inplace=True)\n",
      "    )\n",
      "    (block2): BasicBlock(\n",
      "      (conv1): Conv2d(64, 64, kernel_size=(3, 3), stride=(1, 1), padding=(1, 1), bias=False)\n",
      "      (bnorm1): BatchNorm2d(64, eps=1e-05, momentum=0.1, affine=True, track_running_stats=True)\n",
      "      (relu1): ReLU(inplace=True)\n",
      "      (conv2): Conv2d(64, 64, kernel_size=(3, 3), stride=(1, 1), padding=(1, 1), bias=False)\n",
      "      (bnorm2): BatchNorm2d(64, eps=1e-05, momentum=0.1, affine=True, track_running_stats=True)\n",
      "      (relu2): ReLU(inplace=True)\n",
      "    )\n",
      "    (block3): BasicBlock(\n",
      "      (conv1): Conv2d(64, 128, kernel_size=(3, 3), stride=(2, 2), padding=(1, 1), bias=False)\n",
      "      (bnorm1): BatchNorm2d(128, eps=1e-05, momentum=0.1, affine=True, track_running_stats=True)\n",
      "      (relu1): ReLU(inplace=True)\n",
      "      (conv2): Conv2d(128, 128, kernel_size=(3, 3), stride=(1, 1), padding=(1, 1), bias=False)\n",
      "      (bnorm2): BatchNorm2d(128, eps=1e-05, momentum=0.1, affine=True, track_running_stats=True)\n",
      "      (relu2): ReLU(inplace=True)\n",
      "      (downsample): Sequential(\n",
      "        (0): Conv2d(64, 128, kernel_size=(1, 1), stride=(2, 2), bias=False)\n",
      "        (1): BatchNorm2d(128, eps=1e-05, momentum=0.1, affine=True, track_running_stats=True)\n",
      "      )\n",
      "    )\n",
      "    (block4): BasicBlock(\n",
      "      (conv1): Conv2d(128, 128, kernel_size=(3, 3), stride=(1, 1), padding=(1, 1), bias=False)\n",
      "      (bnorm1): BatchNorm2d(128, eps=1e-05, momentum=0.1, affine=True, track_running_stats=True)\n",
      "      (relu1): ReLU(inplace=True)\n",
      "      (conv2): Conv2d(128, 128, kernel_size=(3, 3), stride=(1, 1), padding=(1, 1), bias=False)\n",
      "      (bnorm2): BatchNorm2d(128, eps=1e-05, momentum=0.1, affine=True, track_running_stats=True)\n",
      "      (relu2): ReLU(inplace=True)\n",
      "    )\n",
      "    (block5): BasicBlock(\n",
      "      (conv1): Conv2d(128, 256, kernel_size=(3, 3), stride=(2, 2), padding=(1, 1), bias=False)\n",
      "      (bnorm1): BatchNorm2d(256, eps=1e-05, momentum=0.1, affine=True, track_running_stats=True)\n",
      "      (relu1): ReLU(inplace=True)\n",
      "      (conv2): Conv2d(256, 256, kernel_size=(3, 3), stride=(1, 1), padding=(1, 1), bias=False)\n",
      "      (bnorm2): BatchNorm2d(256, eps=1e-05, momentum=0.1, affine=True, track_running_stats=True)\n",
      "      (relu2): ReLU(inplace=True)\n",
      "      (downsample): Sequential(\n",
      "        (0): Conv2d(128, 256, kernel_size=(1, 1), stride=(2, 2), bias=False)\n",
      "        (1): BatchNorm2d(256, eps=1e-05, momentum=0.1, affine=True, track_running_stats=True)\n",
      "      )\n",
      "    )\n",
      "    (block6): BasicBlock(\n",
      "      (conv1): Conv2d(256, 256, kernel_size=(3, 3), stride=(1, 1), padding=(1, 1), bias=False)\n",
      "      (bnorm1): BatchNorm2d(256, eps=1e-05, momentum=0.1, affine=True, track_running_stats=True)\n",
      "      (relu1): ReLU(inplace=True)\n",
      "      (conv2): Conv2d(256, 256, kernel_size=(3, 3), stride=(1, 1), padding=(1, 1), bias=False)\n",
      "      (bnorm2): BatchNorm2d(256, eps=1e-05, momentum=0.1, affine=True, track_running_stats=True)\n",
      "      (relu2): ReLU(inplace=True)\n",
      "    )\n",
      "    (block7): BasicBlock(\n",
      "      (conv1): Conv2d(256, 512, kernel_size=(3, 3), stride=(2, 2), padding=(1, 1), bias=False)\n",
      "      (bnorm1): BatchNorm2d(512, eps=1e-05, momentum=0.1, affine=True, track_running_stats=True)\n",
      "      (relu1): ReLU(inplace=True)\n",
      "      (conv2): Conv2d(512, 512, kernel_size=(3, 3), stride=(1, 1), padding=(1, 1), bias=False)\n",
      "      (bnorm2): BatchNorm2d(512, eps=1e-05, momentum=0.1, affine=True, track_running_stats=True)\n",
      "      (relu2): ReLU(inplace=True)\n",
      "      (downsample): Sequential(\n",
      "        (0): Conv2d(256, 512, kernel_size=(1, 1), stride=(2, 2), bias=False)\n",
      "        (1): BatchNorm2d(512, eps=1e-05, momentum=0.1, affine=True, track_running_stats=True)\n",
      "      )\n",
      "    )\n",
      "    (block8): BasicBlock(\n",
      "      (conv1): Conv2d(512, 512, kernel_size=(3, 3), stride=(1, 1), padding=(1, 1), bias=False)\n",
      "      (bnorm1): BatchNorm2d(512, eps=1e-05, momentum=0.1, affine=True, track_running_stats=True)\n",
      "      (relu1): ReLU(inplace=True)\n",
      "      (conv2): Conv2d(512, 512, kernel_size=(3, 3), stride=(1, 1), padding=(1, 1), bias=False)\n",
      "      (bnorm2): BatchNorm2d(512, eps=1e-05, momentum=0.1, affine=True, track_running_stats=True)\n",
      "      (relu2): ReLU(inplace=True)\n",
      "    )\n",
      "  )\n",
      ")\n"
     ]
    }
   ],
   "source": [
    "backbone = ResNetBackbone(\n",
    "    layer_config=RESNET_BACKBONE_CONFIGS[cfg['backbone_config']],\n",
    "    in_channels=cfg['in_channels']\n",
    ")\n",
    "print(backbone)"
   ]
  },
  {
   "cell_type": "code",
   "execution_count": 5,
   "metadata": {},
   "outputs": [
    {
     "name": "stdout",
     "output_type": "stream",
     "text": [
      "GAPClassifier(\n",
      "  (layers): Sequential(\n",
      "    (gap): AdaptiveAvgPool2d(output_size=1)\n",
      "    (flatten): Flatten()\n",
      "    (dropout): Dropout(p=0.5, inplace=False)\n",
      "    (linear): Linear(in_features=512, out_features=9, bias=True)\n",
      "  )\n",
      ")\n"
     ]
    }
   ],
   "source": [
    "head = GAPClassifier(\n",
    "    in_channels=backbone.out_channels,\n",
    "    num_classes=len(WM811K_LABELS),\n",
    "    dropout=0.5\n",
    ")\n",
    "print(head)"
   ]
  },
  {
   "cell_type": "code",
   "execution_count": 6,
   "metadata": {},
   "outputs": [],
   "source": [
    "DI = 9\n",
    "LP = 1.000"
   ]
  },
  {
   "cell_type": "code",
   "execution_count": 7,
   "metadata": {},
   "outputs": [],
   "source": [
    "model_file = os.path.join(\n",
    "    \"../checkpoints/classification_pirl\",\n",
    "    f\"{cfg['backbone_type']}.{cfg['backbone_config']}\",\n",
    "    f\"{cfg['num_negatives']}.{cfg['projector_type']}.best.noise_{cfg['noise']:.2f}_rotate\",\n",
    "    f\"DI_{DI:02}\",\n",
    "    f\"LP_{LP:.3f}\",\n",
    "    \"**/best_model.pt\"\n",
    ")\n",
    "\n",
    "model_file = glob.glob(model_file, recursive=True)[0]\n",
    "assert os.path.exists(model_file), model_file"
   ]
  },
  {
   "cell_type": "code",
   "execution_count": 8,
   "metadata": {},
   "outputs": [],
   "source": [
    "backbone.load_weights_from_checkpoint(model_file, key='backbone')"
   ]
  },
  {
   "cell_type": "code",
   "execution_count": 9,
   "metadata": {},
   "outputs": [],
   "source": [
    "head.load_weights_from_checkpoint(model_file, key='classifier')"
   ]
  },
  {
   "cell_type": "markdown",
   "metadata": {},
   "source": [
    "# Load data"
   ]
  },
  {
   "cell_type": "code",
   "execution_count": 10,
   "metadata": {},
   "outputs": [
    {
     "name": "stdout",
     "output_type": "stream",
     "text": [
      "Compose(\n",
      "    Resize(size=(112, 112), interpolation=PIL.Image.NEAREST)\n",
      "    ToTensor()\n",
      "    Lambda()\n",
      ")\n"
     ]
    }
   ],
   "source": [
    "transforms = BasicTransform.get(size=(112, 112))\n",
    "print(transforms)"
   ]
  },
  {
   "cell_type": "code",
   "execution_count": 11,
   "metadata": {},
   "outputs": [],
   "source": [
    "train_set = LabeledWM811kFolder(\"../data/images/labeled/train/\", transform=transforms)\n",
    "valid_set = LabeledWM811kFolder(\"../data/images/labeled/valid/\", transform=transforms)\n",
    "test_set = LabeledWM811kFolder(\"../data/images/labeled/test/\", transform=transforms)"
   ]
  },
  {
   "cell_type": "code",
   "execution_count": 12,
   "metadata": {},
   "outputs": [
    {
     "name": "stdout",
     "output_type": "stream",
     "text": [
      "Train : Validation : Test = 138,360 : 17,295 : 17,295\n"
     ]
    }
   ],
   "source": [
    "print(f\"Train : Validation : Test = {len(train_set):,} : {len(valid_set):,} : {len(test_set):,}\")"
   ]
  },
  {
   "cell_type": "markdown",
   "metadata": {},
   "source": [
    "# Make predictions"
   ]
  },
  {
   "cell_type": "code",
   "execution_count": 25,
   "metadata": {},
   "outputs": [],
   "source": [
    "net = nn.Sequential(\n",
    "    collections.OrderedDict(\n",
    "        [\n",
    "            ('backbone', backbone),\n",
    "            ('classifier', head),\n",
    "        ]\n",
    "    )\n",
    ")"
   ]
  },
  {
   "cell_type": "code",
   "execution_count": 26,
   "metadata": {},
   "outputs": [],
   "source": [
    "def predict_logits(dataset: torch.utils.data.Dataset, model: nn.Module, device: str, **kwargs):\n",
    "    \n",
    "    data_loader = get_dataloader(\n",
    "        dataset,\n",
    "        batch_size=kwargs.get('batch_size', 256),\n",
    "        shuffle=False,\n",
    "        num_workers=kwargs.get('num_workers', 0)\n",
    "    )\n",
    "    \n",
    "    assert isinstance(model, nn.Module)\n",
    "    model.eval()\n",
    "    \n",
    "    logits = torch.empty(len(dataset), head.num_classes)\n",
    "    targets = torch.empty(len(dataset), dtype=torch.long)\n",
    "    \n",
    "    with torch.no_grad():\n",
    "        for _, batch in enumerate(data_loader):\n",
    "            \n",
    "            x, m = batch['x'].to(device), batch['m'].to(device)\n",
    "            \n",
    "            if backbone.in_channels == 2:\n",
    "                model_input = torch.cat([x, m], dim=1)\n",
    "            else:\n",
    "                model_input = x\n",
    "            \n",
    "            lgt = model(model_input)\n",
    "            logits[batch['idx']] = lgt.cpu()\n",
    "            targets[batch['idx']] = batch['y'].cpu()\n",
    "            \n",
    "    return logits, targets"
   ]
  },
  {
   "cell_type": "code",
   "execution_count": 27,
   "metadata": {},
   "outputs": [],
   "source": [
    "DEVICE = 'cuda:2'"
   ]
  },
  {
   "cell_type": "code",
   "execution_count": 30,
   "metadata": {},
   "outputs": [],
   "source": [
    "eval_configs = dict(model=net, device=DEVICE)"
   ]
  },
  {
   "cell_type": "code",
   "execution_count": 31,
   "metadata": {},
   "outputs": [
    {
     "name": "stdout",
     "output_type": "stream",
     "text": [
      "CPU times: user 9min 9s, sys: 12.3 s, total: 9min 21s\n",
      "Wall time: 1min 39s\n"
     ]
    }
   ],
   "source": [
    "%%time\n",
    "train_logits, train_targets = predict_logits(train_set, **eval_configs)"
   ]
  },
  {
   "cell_type": "code",
   "execution_count": 32,
   "metadata": {},
   "outputs": [
    {
     "name": "stdout",
     "output_type": "stream",
     "text": [
      "CPU times: user 1min 7s, sys: 1.43 s, total: 1min 8s\n",
      "Wall time: 12.1 s\n"
     ]
    }
   ],
   "source": [
    "%%time\n",
    "test_logits, test_targets = predict_logits(test_set, **eval_configs)"
   ]
  },
  {
   "cell_type": "code",
   "execution_count": 18,
   "metadata": {},
   "outputs": [],
   "source": [
    "def get_max_proba(logits: torch.Tensor, return_index=True):\n",
    "    assert logits.ndim == 2\n",
    "    preds = nn.functional.softmax(logits)\n",
    "    preds, indices = preds.max(dim=1)\n",
    "    if return_index:\n",
    "        return preds, indices\n",
    "    else:\n",
    "        return preds"
   ]
  },
  {
   "cell_type": "code",
   "execution_count": 19,
   "metadata": {},
   "outputs": [
    {
     "name": "stdout",
     "output_type": "stream",
     "text": [
      "CPU times: user 91.5 ms, sys: 1.65 ms, total: 93.2 ms\n",
      "Wall time: 5.29 ms\n"
     ]
    }
   ],
   "source": [
    "%%time\n",
    "train_preds, train_preds_indices = get_max_proba(train_logits)"
   ]
  },
  {
   "cell_type": "code",
   "execution_count": 20,
   "metadata": {},
   "outputs": [
    {
     "name": "stdout",
     "output_type": "stream",
     "text": [
      "CPU times: user 1.86 ms, sys: 60 µs, total: 1.92 ms\n",
      "Wall time: 861 µs\n"
     ]
    }
   ],
   "source": [
    "%%time\n",
    "test_preds, test_preds_indices = get_max_proba(test_logits)"
   ]
  },
  {
   "cell_type": "code",
   "execution_count": 144,
   "metadata": {},
   "outputs": [],
   "source": [
    "def visualize_gradcam(net: nn.Module,\n",
    "                      layer: nn.Module,\n",
    "                      dataset: torch.utils.data.Dataset,\n",
    "                      index: int or list,\n",
    "                      in_channels: int = 2, **kwargs):\n",
    "    \n",
    "    if isinstance(index, int):\n",
    "        index = [index]\n",
    "    else:\n",
    "        assert isinstance(index, list)\n",
    "    \n",
    "    device = kwargs.get('device', 'cpu')\n",
    "    net, layer = net.to(device), layer.to(device)\n",
    "    gradcam = LayerGradCam(net, layer)\n",
    "    \n",
    "    def create_gradcam_data(sample: dict, in_channels: int):\n",
    "        x, m = sample.get('x').unsqueeze(0), sample.get('m').unsqueeze(0)\n",
    "        target = sample.get('y')\n",
    "        if in_channels == 2:\n",
    "            out = torch.cat([x, m], dim=1)\n",
    "        else:\n",
    "            out = x\n",
    "        \n",
    "        assert out.ndim == 4, \"(1, C, H, W)\"\n",
    "        return out, target\n",
    "    \n",
    "    def normalize_attribution(attrb: np.ndarray):\n",
    "        assert len(attrb.shape) == 2\n",
    "        v_min, v_max = attrb.min(), attrb.max()\n",
    "        return (attrb - v_min) / (v_max - v_min)\n",
    "        \n",
    "    \n",
    "    inputs, heatmaps, results = [], [], []\n",
    "    for idx in index:\n",
    "        \n",
    "        # Get GradCam input\n",
    "        input_, target_ = create_gradcam_data(dataset[idx], in_channels)\n",
    "        assert input_.ndim == 4\n",
    "        \n",
    "        # Compute attribution\n",
    "        attr = gradcam.attribute(input_.to(device), target_)\n",
    "        \n",
    "        from captum.attr import LayerAttribution\n",
    "        upsample_size = tuple(input_.size()[2:])\n",
    "        interpolate_configs = dict(\n",
    "            interpolate_dims=upsample_size,\n",
    "            interpolate_mode='bilinear',\n",
    "        )\n",
    "        upsampled_attr = LayerAttribution.interpolate(attr, **interpolate_configs)\n",
    "        upsampled_attr = upsampled_attr.detach().cpu()\n",
    "        assert (upsampled_attr.ndim == 4) & (upsampled_attr.squeeze().ndim == 2)\n",
    "        \n",
    "        saliency_map = normalize_attribution(upsampled_attr.squeeze().numpy())\n",
    "        \n",
    "        import cv2\n",
    "        heatmap = (255 * saliency_map).astype(np.uint8)         # (H, W)    ~ [0, 255]\n",
    "        heatmap = cv2.applyColorMap(heatmap, cv2.COLORMAP_JET)  # (H, W, 3) ~ [0, 255]\n",
    "        heatmap = torch.from_numpy(heatmap).float().div(255)    # (H, W, 3) ~ [0, 1]\n",
    "        b, g, r = heatmap.split(1, dim=-1)                      # \n",
    "        heatmap = torch.cat([r, g, b], dim=-1)                  # (H, W, 3) ~ [0, 1]\n",
    "        \n",
    "        input3d = input_.squeeze(0).permute(1, 2, 0).mean(dim=-1, keepdim=True) \n",
    "        result  = heatmap + input3d\n",
    "        result  = result.div(result.max())                      # (H, W, 3)\n",
    "        \n",
    "        inputs   += [input3d.numpy()]\n",
    "        heatmaps += [heatmap.numpy()]\n",
    "        results  += [result.numpy()]\n",
    "        \n",
    "    return inputs, heatmaps, results"
   ]
  },
  {
   "cell_type": "code",
   "execution_count": 244,
   "metadata": {},
   "outputs": [],
   "source": [
    "inputs, heatmaps, results = visualize_gradcam(\n",
    "    net=net, layer=net.backbone.layers.block8.conv2,\n",
    "    dataset=test_set,\n",
    "    index=1,\n",
    "    device='cuda:2',\n",
    ")"
   ]
  },
  {
   "cell_type": "code",
   "execution_count": 245,
   "metadata": {},
   "outputs": [
    {
     "name": "stdout",
     "output_type": "stream",
     "text": [
      "(112, 112, 1)\n"
     ]
    },
    {
     "data": {
      "text/plain": [
       "<matplotlib.image.AxesImage at 0x7fe26f015eb8>"
      ]
     },
     "execution_count": 245,
     "metadata": {},
     "output_type": "execute_result"
    },
    {
     "data": {
      "image/png": "[encoded data removed]",
      "text/plain": [
       "<Figure size 432x288 with 1 Axes>"
      ]
     },
     "metadata": {
      "needs_background": "light"
     },
     "output_type": "display_data"
    }
   ],
   "source": [
    "print(inputs[0].shape)\n",
    "plt.imshow(inputs[0].squeeze(-1), cmap=plt.cm.binary)"
   ]
  },
  {
   "cell_type": "code",
   "execution_count": 246,
   "metadata": {},
   "outputs": [
    {
     "name": "stdout",
     "output_type": "stream",
     "text": [
      "(112, 112, 3)\n"
     ]
    },
    {
     "data": {
      "text/plain": [
       "<matplotlib.image.AxesImage at 0x7fe26afe7e10>"
      ]
     },
     "execution_count": 246,
     "metadata": {},
     "output_type": "execute_result"
    },
    {
     "data": {
      "image/png": "[encoded data removed]",
      "text/plain": [
       "<Figure size 432x288 with 1 Axes>"
      ]
     },
     "metadata": {
      "needs_background": "light"
     },
     "output_type": "display_data"
    }
   ],
   "source": [
    "print(heatmaps[0].shape)\n",
    "plt.imshow(heatmaps[0])"
   ]
  },
  {
   "cell_type": "code",
   "execution_count": 247,
   "metadata": {},
   "outputs": [
    {
     "name": "stdout",
     "output_type": "stream",
     "text": [
      "(112, 112, 3)\n"
     ]
    },
    {
     "data": {
      "text/plain": [
       "<matplotlib.image.AxesImage at 0x7fe26af43f28>"
      ]
     },
     "execution_count": 247,
     "metadata": {},
     "output_type": "execute_result"
    },
    {
     "data": {
      "image/png": "[encoded data removed]",
      "text/plain": [
       "<Figure size 432x288 with 1 Axes>"
      ]
     },
     "metadata": {
      "needs_background": "light"
     },
     "output_type": "display_data"
    }
   ],
   "source": [
    "print(results[0].shape)\n",
    "plt.imshow(results[0])"
   ]
  },
  {
   "cell_type": "code",
   "execution_count": 275,
   "metadata": {},
   "outputs": [],
   "source": [
    "def visualize_guided_gradcam(net: nn.Module,\n",
    "                      layer: nn.Module,\n",
    "                      dataset: torch.utils.data.Dataset,\n",
    "                      index: int or list,\n",
    "                      in_channels: int = 2, **kwargs):\n",
    "    \n",
    "    if isinstance(index, int):\n",
    "        index = [index]\n",
    "    else:\n",
    "        assert isinstance(index, list)\n",
    "    \n",
    "    device = kwargs.get('device', 'cpu')\n",
    "    net, layer = net.to(device), layer.to(device)\n",
    "    guided_gradcam = GuidedGradCam(net, layer)\n",
    "    \n",
    "    def create_gradcam_data(sample: dict, in_channels: int):\n",
    "        x, m = sample.get('x').unsqueeze(0), sample.get('m').unsqueeze(0)\n",
    "        target = sample.get('y')\n",
    "        if in_channels == 2:\n",
    "            out = torch.cat([x, m], dim=1)\n",
    "        else:\n",
    "            out = x\n",
    "        \n",
    "        assert out.ndim == 4, \"(1, C, H, W)\"\n",
    "        return out, target\n",
    "    \n",
    "    def normalize_attribution(attr: np.ndarray):\n",
    "        assert len(attr.shape) == 2\n",
    "        v_min, v_max = attr.min(), attr.max()\n",
    "        return (attr - v_min) / (v_max - v_min)\n",
    "        \n",
    "    inputs, heatmaps, results = [], [], []\n",
    "    for idx in index:\n",
    "        \n",
    "        # Get GradCam input\n",
    "        input_, target_ = create_gradcam_data(dataset[idx], in_channels)\n",
    "        assert input_.ndim == 4\n",
    "        \n",
    "        # Compute attribution\n",
    "        attr = guided_gradcam.attribute(\n",
    "            input_.to(device), target_,\n",
    "            interpolate_mode='nearest',\n",
    "        )\n",
    "        attr = attr.mean(dim=1, keepdim=True).detach().cpu()\n",
    "        assert (attr.ndim == 4) & (attr.squeeze().ndim == 2)\n",
    "        \n",
    "        saliency_map = normalize_attribution(attr.squeeze().numpy())\n",
    "        \n",
    "        import cv2\n",
    "        heatmap = (255 * saliency_map).astype(np.uint8)         # (H, W)    ~ [0, 255]\n",
    "        heatmap = cv2.applyColorMap(heatmap, cv2.COLORMAP_JET) # (H, W, 3) ~ [0, 255]\n",
    "        heatmap = torch.from_numpy(heatmap).float().div(255)    # (H, W, 3) ~ [0, 1]\n",
    "        b, g, r = heatmap.split(1, dim=-1)                      # \n",
    "        heatmap = torch.cat([r, g, b], dim=-1)                  # (H, W, 3) ~ [0, 1]\n",
    "        \n",
    "        input3d = input_.squeeze(0).permute(1, 2, 0).mean(dim=-1, keepdim=True) \n",
    "        result  = heatmap * 1.5 + input3d\n",
    "        result  = result.div(result.max())                      # (H, W, 3)\n",
    "        \n",
    "        inputs   += [input3d.numpy()]\n",
    "        heatmaps += [heatmap.numpy()]\n",
    "        results  += [result.numpy()]\n",
    "        \n",
    "    return inputs, heatmaps, results"
   ]
  },
  {
   "cell_type": "code",
   "execution_count": 284,
   "metadata": {},
   "outputs": [],
   "source": [
    "inputs, heatmaps, results = visualize_guided_gradcam(\n",
    "    net=net, layer=net.classifier.layers.gap,\n",
    "    dataset=test_set,\n",
    "    index=9340,\n",
    "    device='cuda:2',\n",
    ")"
   ]
  },
  {
   "cell_type": "code",
   "execution_count": 285,
   "metadata": {},
   "outputs": [
    {
     "name": "stdout",
     "output_type": "stream",
     "text": [
      "(112, 112, 1)\n"
     ]
    },
    {
     "data": {
      "text/plain": [
       "<matplotlib.image.AxesImage at 0x7fe26e299cc0>"
      ]
     },
     "execution_count": 285,
     "metadata": {},
     "output_type": "execute_result"
    },
    {
     "data": {
      "image/png": "[encoded data removed]",
      "text/plain": [
       "<Figure size 432x288 with 1 Axes>"
      ]
     },
     "metadata": {
      "needs_background": "light"
     },
     "output_type": "display_data"
    }
   ],
   "source": [
    "print(inputs[0].shape)\n",
    "plt.imshow(inputs[0].squeeze(-1), cmap=plt.cm.binary)"
   ]
  },
  {
   "cell_type": "code",
   "execution_count": 286,
   "metadata": {},
   "outputs": [
    {
     "name": "stdout",
     "output_type": "stream",
     "text": [
      "(112, 112, 3)\n"
     ]
    },
    {
     "data": {
      "text/plain": [
       "<matplotlib.image.AxesImage at 0x7fe26e27a828>"
      ]
     },
     "execution_count": 286,
     "metadata": {},
     "output_type": "execute_result"
    },
    {
     "data": {
      "image/png": "[encoded data removed]",
      "text/plain": [
       "<Figure size 432x288 with 1 Axes>"
      ]
     },
     "metadata": {
      "needs_background": "light"
     },
     "output_type": "display_data"
    }
   ],
   "source": [
    "print(heatmaps[0].shape)\n",
    "plt.imshow(heatmaps[0])"
   ]
  },
  {
   "cell_type": "code",
   "execution_count": 287,
   "metadata": {},
   "outputs": [
    {
     "name": "stdout",
     "output_type": "stream",
     "text": [
      "(112, 112, 3)\n"
     ]
    },
    {
     "data": {
      "text/plain": [
       "<matplotlib.image.AxesImage at 0x7fe26e1d6978>"
      ]
     },
     "execution_count": 287,
     "metadata": {},
     "output_type": "execute_result"
    },
    {
     "data": {
      "image/png": "[encoded data removed]",
      "text/plain": [
       "<Figure size 432x288 with 1 Axes>"
      ]
     },
     "metadata": {
      "needs_background": "light"
     },
     "output_type": "display_data"
    }
   ],
   "source": [
    "print(results[0].shape)\n",
    "plt.imshow(results[0])"
   ]
  },
  {
   "cell_type": "code",
   "execution_count": null,
   "metadata": {},
   "outputs": [],
   "source": []
  },
  {
   "cell_type": "code",
   "execution_count": null,
   "metadata": {},
   "outputs": [],
   "source": []
  }
 ],
 "metadata": {
  "kernelspec": {
   "display_name": "Python 3",
   "language": "python",
   "name": "python3"
  },
  "language_info": {
   "codemirror_mode": {
    "name": "ipython",
    "version": 3
   },
   "file_extension": ".py",
   "mimetype": "text/x-python",
   "name": "python",
   "nbconvert_exporter": "python",
   "pygments_lexer": "ipython3",
   "version": "3.6.9"
  }
 },
 "nbformat": 4,
 "nbformat_minor": 4
}
