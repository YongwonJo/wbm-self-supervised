{
 "cells": [
  {
   "cell_type": "code",
   "execution_count": 1,
   "metadata": {},
   "outputs": [],
   "source": [
    "import os\n",
    "import sys\n",
    "import math\n",
    "import glob\n",
    "import pathlib\n",
    "import multiprocessing as mp\n",
    "import warnings\n",
    "warnings.filterwarnings('ignore')\n",
    "\n",
    "import numpy as np\n",
    "import pandas as pd\n",
    "import matplotlib.pyplot as plt\n",
    "import torch\n",
    "import cv2"
   ]
  },
  {
   "cell_type": "code",
   "execution_count": 2,
   "metadata": {},
   "outputs": [],
   "source": [
    "ROOT = os.path.abspath(\"../\")\n",
    "if ROOT not in sys.path:\n",
    "    sys.path.append(ROOT)\n",
    "\n",
    "from datasets.wafer import WM811K\n",
    "from datasets.transforms import WM811KTransform\n",
    "from baselines.wm811k.features import RadonFeatures\n",
    "from baselines.wm811k.features import GeometryFeatures\n",
    "from baselines.wm811k.features import DensityFeatures"
   ]
  },
  {
   "cell_type": "code",
   "execution_count": 3,
   "metadata": {},
   "outputs": [],
   "source": [
    "TRAIN_DIR = os.path.join(ROOT, \"data/wm811k/labeled/train\")\n",
    "VALID_DIR = os.path.join(ROOT, \"data/wm811k/labeled/valid\")\n",
    "TEST_DIR  = os.path.join(ROOT, \"data/wm811k/labeled/test\")"
   ]
  },
  {
   "cell_type": "code",
   "execution_count": 4,
   "metadata": {},
   "outputs": [
    {
     "name": "stdout",
     "output_type": "stream",
     "text": [
      "Size of train data: 138,360\n",
      "Size of valid data: 17,295\n",
      "Size of test data: 17,295\n"
     ]
    }
   ],
   "source": [
    "train_data = glob.glob(os.path.join(TRAIN_DIR, \"**/*.png\"), recursive=True)\n",
    "print(f\"Size of train data: {len(train_data):,}\")\n",
    "\n",
    "valid_data = glob.glob(os.path.join(VALID_DIR, \"**/*.png\"), recursive=True)\n",
    "print(f\"Size of valid data: {len(valid_data):,}\")\n",
    "\n",
    "test_data = glob.glob(os.path.join(TEST_DIR, \"**/*.png\"), recursive=True)\n",
    "print(f\"Size of test data: {len(test_data):,}\")"
   ]
  },
  {
   "cell_type": "code",
   "execution_count": 5,
   "metadata": {},
   "outputs": [],
   "source": [
    "def create_sample(filename: str):\n",
    "    idx = int(os.path.basename(filename).replace('.png', ''))\n",
    "    label = pathlib.Path(filename).parent.name\n",
    "    try:\n",
    "        rad_data = pd.DataFrame(RadonFeatures(filename).data, index=[idx])\n",
    "        geo_data = pd.DataFrame(GeometryFeatures(filename).data, index=[idx])\n",
    "        den_data = pd.DataFrame(DensityFeatures(filename).data, index=[idx])\n",
    "        label_data = pd.DataFrame([label], index=[idx], columns=['label'])\n",
    "        data = pd.concat([rad_data, geo_data, den_data, label_data], axis=1)\n",
    "        return data\n",
    "    except ValueError as e:\n",
    "        return None"
   ]
  },
  {
   "cell_type": "code",
   "execution_count": 6,
   "metadata": {},
   "outputs": [],
   "source": [
    "def create_dataframe(filenames: list, p: int = 8):\n",
    "    with mp.Pool(p) as pool:\n",
    "        samples = pool.map(create_sample, filenames)    \n",
    "    samples = [s for s in samples if s is not None]\n",
    "    return pd.concat(samples, axis=0)"
   ]
  },
  {
   "cell_type": "code",
   "execution_count": 7,
   "metadata": {},
   "outputs": [],
   "source": [
    "write_dir = os.path.join(ROOT, 'data/wm811k/baselines/wmfpr/')\n",
    "os.makedirs(write_dir, exist_ok=True)"
   ]
  },
  {
   "cell_type": "code",
   "execution_count": 8,
   "metadata": {},
   "outputs": [
    {
     "name": "stdout",
     "output_type": "stream",
     "text": [
      "CPU times: user 6min 58s, sys: 3.94 s, total: 7min 2s\n",
      "Wall time: 14min 38s\n"
     ]
    }
   ],
   "source": [
    "%%time\n",
    "train_df = create_dataframe(train_data, p=8)\n",
    "train_df.to_csv(os.path.join(write_dir, 'train.csv'), header=True, index=True)"
   ]
  },
  {
   "cell_type": "code",
   "execution_count": 9,
   "metadata": {},
   "outputs": [
    {
     "name": "stdout",
     "output_type": "stream",
     "text": [
      "CPU times: user 52.1 s, sys: 873 ms, total: 53 s\n",
      "Wall time: 1min 50s\n"
     ]
    }
   ],
   "source": [
    "%%time\n",
    "valid_df = create_dataframe(valid_data, p=8)\n",
    "valid_df.to_csv(os.path.join(write_dir, 'valid.csv'), header=True, index=True)"
   ]
  },
  {
   "cell_type": "code",
   "execution_count": 10,
   "metadata": {},
   "outputs": [
    {
     "name": "stdout",
     "output_type": "stream",
     "text": [
      "CPU times: user 52.7 s, sys: 637 ms, total: 53.4 s\n",
      "Wall time: 1min 51s\n"
     ]
    }
   ],
   "source": [
    "%%time\n",
    "test_df = create_dataframe(test_data, p=8)\n",
    "test_df.to_csv(os.path.join(write_dir, 'test.csv'), header=True, index=True)"
   ]
  },
  {
   "cell_type": "code",
   "execution_count": 11,
   "metadata": {},
   "outputs": [
    {
     "data": {
      "text/plain": [
       "(138359, 75)"
      ]
     },
     "execution_count": 11,
     "metadata": {},
     "output_type": "execute_result"
    }
   ],
   "source": [
    "train_df.shape"
   ]
  },
  {
   "cell_type": "code",
   "execution_count": 13,
   "metadata": {},
   "outputs": [
    {
     "data": {
      "text/plain": [
       "(17295, 75)"
      ]
     },
     "execution_count": 13,
     "metadata": {},
     "output_type": "execute_result"
    }
   ],
   "source": [
    "valid_df.shape"
   ]
  },
  {
   "cell_type": "code",
   "execution_count": 14,
   "metadata": {},
   "outputs": [
    {
     "data": {
      "text/plain": [
       "(17295, 75)"
      ]
     },
     "execution_count": 14,
     "metadata": {},
     "output_type": "execute_result"
    }
   ],
   "source": [
    "test_df.shape"
   ]
  },
  {
   "cell_type": "code",
   "execution_count": null,
   "metadata": {},
   "outputs": [],
   "source": []
  }
 ],
 "metadata": {
  "kernelspec": {
   "display_name": "Python 3",
   "language": "python",
   "name": "python3"
  },
  "language_info": {
   "codemirror_mode": {
    "name": "ipython",
    "version": 3
   },
   "file_extension": ".py",
   "mimetype": "text/x-python",
   "name": "python",
   "nbconvert_exporter": "python",
   "pygments_lexer": "ipython3",
   "version": "3.6.9"
  }
 },
 "nbformat": 4,
 "nbformat_minor": 4
}
